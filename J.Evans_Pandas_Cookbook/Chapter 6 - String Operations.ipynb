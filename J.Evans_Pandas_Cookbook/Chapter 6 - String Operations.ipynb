{
 "cells": [
  {
   "cell_type": "code",
   "execution_count": 50,
   "metadata": {
    "collapsed": true
   },
   "outputs": [],
   "source": [
    "import pandas as pd\n",
    "import numpy as np\n",
    "import matplotlib.pyplot as plt\n",
    "%matplotlib inline\n",
    "\n",
    "plt.rcParams['figure.figsize'] = (15,5)\n",
    "plt.rcParams['font.family'] = 'sans-serif'\n",
    "plt.style.use('ggplot')"
   ]
  },
  {
   "cell_type": "code",
   "execution_count": 2,
   "metadata": {},
   "outputs": [
    {
     "name": "stdout",
     "output_type": "stream",
     "text": [
      "total 55576\r\n",
      "-rw-rw-r-- 1 dsc dsc 55052764 Jan 10 20:09  311-service-requests.csv\r\n",
      "-rw-rw-r-- 1 dsc dsc    19522 Jan  7 19:43  bikes2012.csv\r\n",
      "-rw-rw-r-- 1 dsc dsc   167017 Jan 10 20:30 'Chapter 2-Selecting data.ipynb'\r\n",
      "-rw-rw-r-- 1 dsc dsc   149627 Jan 10 23:01 'Chapter 3 - More selecting data.ipynb'\r\n",
      "-rw-rw-r-- 1 dsc dsc   129628 Jan 11 19:11 'Chapter 4 - groupby y aggregate.ipynb'\r\n",
      "-rw-rw-r-- 1 dsc dsc   299553 Jan 15 23:29 'Chapter 5 - Combining datasets.ipynb'\r\n",
      "-rw-rw-r-- 1 dsc dsc     1025 Jan 15 23:32 'Chapter 6 - String Operations.ipynb'\r\n",
      "-rw-rw-r-- 1 dsc dsc   475902 Jan  9 20:36  practica1.ipynb\r\n",
      "-rw-rw-r-- 1 dsc dsc   503772 Jan 15 22:23  weather_2012.csv\r\n",
      "-rw-rw-r-- 1 dsc dsc    89434 Jan 15 22:27  weather_march_2012_hours.csv\r\n"
     ]
    }
   ],
   "source": [
    "!ls -l"
   ]
  },
  {
   "cell_type": "code",
   "execution_count": 3,
   "metadata": {
    "collapsed": true
   },
   "outputs": [],
   "source": [
    "weather_2012 = pd.read_csv('weather_2012.csv', parse_dates=True, index_col='Date/Time')"
   ]
  },
  {
   "cell_type": "code",
   "execution_count": 4,
   "metadata": {},
   "outputs": [
    {
     "data": {
      "text/html": [
       "<div>\n",
       "<style>\n",
       "    .dataframe thead tr:only-child th {\n",
       "        text-align: right;\n",
       "    }\n",
       "\n",
       "    .dataframe thead th {\n",
       "        text-align: left;\n",
       "    }\n",
       "\n",
       "    .dataframe tbody tr th {\n",
       "        vertical-align: top;\n",
       "    }\n",
       "</style>\n",
       "<table border=\"1\" class=\"dataframe\">\n",
       "  <thead>\n",
       "    <tr style=\"text-align: right;\">\n",
       "      <th></th>\n",
       "      <th>Temp (C)</th>\n",
       "      <th>Dew Point Temp (C)</th>\n",
       "      <th>Rel Hum (%)</th>\n",
       "      <th>Wind Spd (km/h)</th>\n",
       "      <th>Visibility (km)</th>\n",
       "      <th>Stn Press (kPa)</th>\n",
       "      <th>Weather</th>\n",
       "    </tr>\n",
       "    <tr>\n",
       "      <th>Date/Time</th>\n",
       "      <th></th>\n",
       "      <th></th>\n",
       "      <th></th>\n",
       "      <th></th>\n",
       "      <th></th>\n",
       "      <th></th>\n",
       "      <th></th>\n",
       "    </tr>\n",
       "  </thead>\n",
       "  <tbody>\n",
       "    <tr>\n",
       "      <th>2012-01-01 00:00:00</th>\n",
       "      <td>-1.8</td>\n",
       "      <td>-3.9</td>\n",
       "      <td>86</td>\n",
       "      <td>4</td>\n",
       "      <td>8.0</td>\n",
       "      <td>101.24</td>\n",
       "      <td>Fog</td>\n",
       "    </tr>\n",
       "    <tr>\n",
       "      <th>2012-01-01 01:00:00</th>\n",
       "      <td>-1.8</td>\n",
       "      <td>-3.7</td>\n",
       "      <td>87</td>\n",
       "      <td>4</td>\n",
       "      <td>8.0</td>\n",
       "      <td>101.24</td>\n",
       "      <td>Fog</td>\n",
       "    </tr>\n",
       "    <tr>\n",
       "      <th>2012-01-01 02:00:00</th>\n",
       "      <td>-1.8</td>\n",
       "      <td>-3.4</td>\n",
       "      <td>89</td>\n",
       "      <td>7</td>\n",
       "      <td>4.0</td>\n",
       "      <td>101.26</td>\n",
       "      <td>Freezing Drizzle,Fog</td>\n",
       "    </tr>\n",
       "    <tr>\n",
       "      <th>2012-01-01 03:00:00</th>\n",
       "      <td>-1.5</td>\n",
       "      <td>-3.2</td>\n",
       "      <td>88</td>\n",
       "      <td>6</td>\n",
       "      <td>4.0</td>\n",
       "      <td>101.27</td>\n",
       "      <td>Freezing Drizzle,Fog</td>\n",
       "    </tr>\n",
       "    <tr>\n",
       "      <th>2012-01-01 04:00:00</th>\n",
       "      <td>-1.5</td>\n",
       "      <td>-3.3</td>\n",
       "      <td>88</td>\n",
       "      <td>7</td>\n",
       "      <td>4.8</td>\n",
       "      <td>101.23</td>\n",
       "      <td>Fog</td>\n",
       "    </tr>\n",
       "  </tbody>\n",
       "</table>\n",
       "</div>"
      ],
      "text/plain": [
       "                     Temp (C)  Dew Point Temp (C)  Rel Hum (%)  \\\n",
       "Date/Time                                                        \n",
       "2012-01-01 00:00:00      -1.8                -3.9           86   \n",
       "2012-01-01 01:00:00      -1.8                -3.7           87   \n",
       "2012-01-01 02:00:00      -1.8                -3.4           89   \n",
       "2012-01-01 03:00:00      -1.5                -3.2           88   \n",
       "2012-01-01 04:00:00      -1.5                -3.3           88   \n",
       "\n",
       "                     Wind Spd (km/h)  Visibility (km)  Stn Press (kPa)  \\\n",
       "Date/Time                                                                \n",
       "2012-01-01 00:00:00                4              8.0           101.24   \n",
       "2012-01-01 01:00:00                4              8.0           101.24   \n",
       "2012-01-01 02:00:00                7              4.0           101.26   \n",
       "2012-01-01 03:00:00                6              4.0           101.27   \n",
       "2012-01-01 04:00:00                7              4.8           101.23   \n",
       "\n",
       "                                  Weather  \n",
       "Date/Time                                  \n",
       "2012-01-01 00:00:00                   Fog  \n",
       "2012-01-01 01:00:00                   Fog  \n",
       "2012-01-01 02:00:00  Freezing Drizzle,Fog  \n",
       "2012-01-01 03:00:00  Freezing Drizzle,Fog  \n",
       "2012-01-01 04:00:00                   Fog  "
      ]
     },
     "execution_count": 4,
     "metadata": {},
     "output_type": "execute_result"
    }
   ],
   "source": [
    "weather_2012.head()"
   ]
  },
  {
   "cell_type": "code",
   "execution_count": 6,
   "metadata": {
    "collapsed": true
   },
   "outputs": [],
   "source": [
    "#seleccionamos las horas de cada día en que ha nevado\n",
    "#primero extraemos la columna weather, en la que vamos a buscar\n",
    "weather_desc = weather_2012['Weather']"
   ]
  },
  {
   "cell_type": "code",
   "execution_count": 7,
   "metadata": {},
   "outputs": [],
   "source": [
    "# weather_desc.str.contains('Snow') devuelve array booleano con True/False\n",
    "# para extraerlo del dataframe hay que meterlo entre corchetes\n",
    "is_snowing = weather_desc[weather_desc.str.contains('Snow')]"
   ]
  },
  {
   "cell_type": "code",
   "execution_count": 15,
   "metadata": {
    "collapsed": true
   },
   "outputs": [
    {
     "data": {
      "text/plain": [
       "Date/Time\n",
       "2012-01-02 17:00:00    Snow Showers\n",
       "2012-01-02 20:00:00    Snow Showers\n",
       "2012-01-02 21:00:00    Snow Showers\n",
       "2012-01-02 23:00:00    Snow Showers\n",
       "2012-01-03 00:00:00    Snow Showers\n",
       "2012-01-03 02:00:00    Snow Showers\n",
       "2012-01-03 03:00:00    Snow Showers\n",
       "2012-01-03 05:00:00    Snow Showers\n",
       "2012-01-03 06:00:00    Snow Showers\n",
       "2012-01-03 07:00:00            Snow\n",
       "2012-01-04 12:00:00            Snow\n",
       "2012-01-04 14:00:00            Snow\n",
       "2012-01-04 15:00:00            Snow\n",
       "2012-01-04 16:00:00            Snow\n",
       "2012-01-04 17:00:00            Snow\n",
       "2012-01-04 18:00:00            Snow\n",
       "2012-01-04 19:00:00            Snow\n",
       "2012-01-04 20:00:00            Snow\n",
       "2012-01-04 21:00:00            Snow\n",
       "2012-01-04 22:00:00            Snow\n",
       "2012-01-04 23:00:00            Snow\n",
       "2012-01-05 00:00:00            Snow\n",
       "2012-01-05 01:00:00            Snow\n",
       "2012-01-05 02:00:00            Snow\n",
       "2012-01-05 03:00:00            Snow\n",
       "2012-01-05 04:00:00            Snow\n",
       "2012-01-05 05:00:00            Snow\n",
       "2012-01-05 06:00:00            Snow\n",
       "2012-01-05 07:00:00            Snow\n",
       "2012-01-05 08:00:00            Snow\n",
       "                           ...     \n",
       "2012-12-29 18:00:00        Snow,Fog\n",
       "2012-12-29 19:00:00        Snow,Fog\n",
       "2012-12-29 20:00:00        Snow,Fog\n",
       "2012-12-29 21:00:00        Snow,Fog\n",
       "2012-12-29 22:00:00        Snow,Fog\n",
       "2012-12-29 23:00:00        Snow,Fog\n",
       "2012-12-30 00:00:00        Snow,Fog\n",
       "2012-12-30 01:00:00        Snow,Fog\n",
       "2012-12-30 02:00:00        Snow,Fog\n",
       "2012-12-30 03:00:00        Snow,Fog\n",
       "2012-12-30 04:00:00        Snow,Fog\n",
       "2012-12-30 05:00:00        Snow,Fog\n",
       "2012-12-30 06:00:00        Snow,Fog\n",
       "2012-12-31 07:00:00    Snow Showers\n",
       "2012-12-31 08:00:00    Snow Showers\n",
       "2012-12-31 09:00:00            Snow\n",
       "2012-12-31 10:00:00        Snow,Fog\n",
       "2012-12-31 11:00:00            Snow\n",
       "2012-12-31 12:00:00            Snow\n",
       "2012-12-31 13:00:00            Snow\n",
       "2012-12-31 14:00:00            Snow\n",
       "2012-12-31 15:00:00            Snow\n",
       "2012-12-31 16:00:00            Snow\n",
       "2012-12-31 17:00:00            Snow\n",
       "2012-12-31 18:00:00            Snow\n",
       "2012-12-31 19:00:00            Snow\n",
       "2012-12-31 20:00:00            Snow\n",
       "2012-12-31 21:00:00            Snow\n",
       "2012-12-31 22:00:00            Snow\n",
       "2012-12-31 23:00:00            Snow\n",
       "Name: Weather, Length: 583, dtype: object"
      ]
     },
     "execution_count": 15,
     "metadata": {},
     "output_type": "execute_result"
    }
   ],
   "source": [
    "is_snowing"
   ]
  },
  {
   "cell_type": "code",
   "execution_count": 8,
   "metadata": {
    "collapsed": true
   },
   "outputs": [],
   "source": [
    "snow = is_snowing = weather_desc.str.contains('Snow')"
   ]
  },
  {
   "cell_type": "code",
   "execution_count": 9,
   "metadata": {},
   "outputs": [
    {
     "data": {
      "text/plain": [
       "Date/Time\n",
       "2012-01-01 00:00:00    False\n",
       "2012-01-01 01:00:00    False\n",
       "2012-01-01 02:00:00    False\n",
       "2012-01-01 03:00:00    False\n",
       "2012-01-01 04:00:00    False\n",
       "2012-01-01 05:00:00    False\n",
       "2012-01-01 06:00:00    False\n",
       "2012-01-01 07:00:00    False\n",
       "2012-01-01 08:00:00    False\n",
       "2012-01-01 09:00:00    False\n",
       "2012-01-01 10:00:00    False\n",
       "2012-01-01 11:00:00    False\n",
       "2012-01-01 12:00:00    False\n",
       "2012-01-01 13:00:00    False\n",
       "2012-01-01 14:00:00    False\n",
       "2012-01-01 15:00:00    False\n",
       "2012-01-01 16:00:00    False\n",
       "2012-01-01 17:00:00    False\n",
       "2012-01-01 18:00:00    False\n",
       "2012-01-01 19:00:00    False\n",
       "2012-01-01 20:00:00    False\n",
       "2012-01-01 21:00:00    False\n",
       "2012-01-01 22:00:00    False\n",
       "2012-01-01 23:00:00    False\n",
       "2012-01-02 00:00:00    False\n",
       "2012-01-02 01:00:00    False\n",
       "2012-01-02 02:00:00    False\n",
       "2012-01-02 03:00:00    False\n",
       "2012-01-02 04:00:00    False\n",
       "2012-01-02 05:00:00    False\n",
       "                       ...  \n",
       "2012-12-30 18:00:00    False\n",
       "2012-12-30 19:00:00    False\n",
       "2012-12-30 20:00:00    False\n",
       "2012-12-30 21:00:00    False\n",
       "2012-12-30 22:00:00    False\n",
       "2012-12-30 23:00:00    False\n",
       "2012-12-31 00:00:00    False\n",
       "2012-12-31 01:00:00    False\n",
       "2012-12-31 02:00:00    False\n",
       "2012-12-31 03:00:00    False\n",
       "2012-12-31 04:00:00    False\n",
       "2012-12-31 05:00:00    False\n",
       "2012-12-31 06:00:00    False\n",
       "2012-12-31 07:00:00     True\n",
       "2012-12-31 08:00:00     True\n",
       "2012-12-31 09:00:00     True\n",
       "2012-12-31 10:00:00     True\n",
       "2012-12-31 11:00:00     True\n",
       "2012-12-31 12:00:00     True\n",
       "2012-12-31 13:00:00     True\n",
       "2012-12-31 14:00:00     True\n",
       "2012-12-31 15:00:00     True\n",
       "2012-12-31 16:00:00     True\n",
       "2012-12-31 17:00:00     True\n",
       "2012-12-31 18:00:00     True\n",
       "2012-12-31 19:00:00     True\n",
       "2012-12-31 20:00:00     True\n",
       "2012-12-31 21:00:00     True\n",
       "2012-12-31 22:00:00     True\n",
       "2012-12-31 23:00:00     True\n",
       "Name: Weather, Length: 8784, dtype: bool"
      ]
     },
     "execution_count": 9,
     "metadata": {},
     "output_type": "execute_result"
    }
   ],
   "source": [
    "snow"
   ]
  },
  {
   "cell_type": "code",
   "execution_count": 10,
   "metadata": {
    "scrolled": true
   },
   "outputs": [
    {
     "data": {
      "text/plain": [
       "<matplotlib.axes._subplots.AxesSubplot at 0x7f4d67d54208>"
      ]
     },
     "execution_count": 10,
     "metadata": {},
     "output_type": "execute_result"
    },
    {
     "data": {
      "image/png": "[encoded data removed]",
      "text/plain": [
       "<matplotlib.figure.Figure at 0x7f4d675262b0>"
      ]
     },
     "metadata": {},
     "output_type": "display_data"
    }
   ],
   "source": [
    "# si dibujamos el array booleano snow vemos en gráfico los días que hubo nieve\n",
    "snow.plot()"
   ]
  },
  {
   "cell_type": "code",
   "execution_count": 17,
   "metadata": {},
   "outputs": [],
   "source": [
    "#obtener la temperatura media de cada mes. resample() usa la variable tipo date/time y la reformatea; en este caso toma el mes\n",
    "temp_month = weather_2012['Temp (C)'].resample('M').apply(np.mean)"
   ]
  },
  {
   "cell_type": "code",
   "execution_count": 18,
   "metadata": {},
   "outputs": [
    {
     "data": {
      "text/plain": [
       "Date/Time\n",
       "2012-01-31    -7.371505\n",
       "2012-02-29    -4.225000\n",
       "2012-03-31     3.121237\n",
       "2012-04-30     7.009306\n",
       "2012-05-31    16.237769\n",
       "2012-06-30    20.134028\n",
       "2012-07-31    22.790054\n",
       "2012-08-31    22.279301\n",
       "2012-09-30    16.484444\n",
       "2012-10-31    10.954973\n",
       "2012-11-30     0.931389\n",
       "2012-12-31    -3.306317\n",
       "Freq: M, Name: Temp (C), dtype: float64"
      ]
     },
     "execution_count": 18,
     "metadata": {},
     "output_type": "execute_result"
    }
   ],
   "source": [
    "temp_month"
   ]
  },
  {
   "cell_type": "code",
   "execution_count": 21,
   "metadata": {},
   "outputs": [
    {
     "data": {
      "text/plain": [
       "<matplotlib.axes._subplots.AxesSubplot at 0x7f4d6054eb00>"
      ]
     },
     "execution_count": 21,
     "metadata": {},
     "output_type": "execute_result"
    },
    {
     "data": {
      "image/png": "[encoded data removed]",
      "text/plain": [
       "<matplotlib.figure.Figure at 0x7f4d6054e048>"
      ]
     },
     "metadata": {},
     "output_type": "display_data"
    }
   ],
   "source": [
    "temp_month.plot(kind='bar')"
   ]
  },
  {
   "cell_type": "code",
   "execution_count": 24,
   "metadata": {
    "scrolled": true
   },
   "outputs": [
    {
     "data": {
      "text/plain": [
       "Date/Time\n",
       "2012-01-01 00:00:00    0.0\n",
       "2012-01-01 01:00:00    0.0\n",
       "2012-01-01 02:00:00    0.0\n",
       "2012-01-01 03:00:00    0.0\n",
       "2012-01-01 04:00:00    0.0\n",
       "2012-01-01 05:00:00    0.0\n",
       "2012-01-01 06:00:00    0.0\n",
       "2012-01-01 07:00:00    0.0\n",
       "2012-01-01 08:00:00    0.0\n",
       "2012-01-01 09:00:00    0.0\n",
       "2012-01-01 10:00:00    0.0\n",
       "2012-01-01 11:00:00    0.0\n",
       "2012-01-01 12:00:00    0.0\n",
       "2012-01-01 13:00:00    0.0\n",
       "2012-01-01 14:00:00    0.0\n",
       "2012-01-01 15:00:00    0.0\n",
       "2012-01-01 16:00:00    0.0\n",
       "2012-01-01 17:00:00    0.0\n",
       "2012-01-01 18:00:00    0.0\n",
       "2012-01-01 19:00:00    0.0\n",
       "2012-01-01 20:00:00    0.0\n",
       "2012-01-01 21:00:00    0.0\n",
       "2012-01-01 22:00:00    0.0\n",
       "2012-01-01 23:00:00    0.0\n",
       "2012-01-02 00:00:00    0.0\n",
       "2012-01-02 01:00:00    0.0\n",
       "2012-01-02 02:00:00    0.0\n",
       "2012-01-02 03:00:00    0.0\n",
       "2012-01-02 04:00:00    0.0\n",
       "2012-01-02 05:00:00    0.0\n",
       "                      ... \n",
       "2012-12-30 18:00:00    0.0\n",
       "2012-12-30 19:00:00    0.0\n",
       "2012-12-30 20:00:00    0.0\n",
       "2012-12-30 21:00:00    0.0\n",
       "2012-12-30 22:00:00    0.0\n",
       "2012-12-30 23:00:00    0.0\n",
       "2012-12-31 00:00:00    0.0\n",
       "2012-12-31 01:00:00    0.0\n",
       "2012-12-31 02:00:00    0.0\n",
       "2012-12-31 03:00:00    0.0\n",
       "2012-12-31 04:00:00    0.0\n",
       "2012-12-31 05:00:00    0.0\n",
       "2012-12-31 06:00:00    0.0\n",
       "2012-12-31 07:00:00    1.0\n",
       "2012-12-31 08:00:00    1.0\n",
       "2012-12-31 09:00:00    1.0\n",
       "2012-12-31 10:00:00    1.0\n",
       "2012-12-31 11:00:00    1.0\n",
       "2012-12-31 12:00:00    1.0\n",
       "2012-12-31 13:00:00    1.0\n",
       "2012-12-31 14:00:00    1.0\n",
       "2012-12-31 15:00:00    1.0\n",
       "2012-12-31 16:00:00    1.0\n",
       "2012-12-31 17:00:00    1.0\n",
       "2012-12-31 18:00:00    1.0\n",
       "2012-12-31 19:00:00    1.0\n",
       "2012-12-31 20:00:00    1.0\n",
       "2012-12-31 21:00:00    1.0\n",
       "2012-12-31 22:00:00    1.0\n",
       "2012-12-31 23:00:00    1.0\n",
       "Name: Weather, Length: 8784, dtype: float64"
      ]
     },
     "execution_count": 24,
     "metadata": {},
     "output_type": "execute_result"
    }
   ],
   "source": [
    "#convertimos True/False en 1/0\n",
    "is_snowing.astype('float')"
   ]
  },
  {
   "cell_type": "code",
   "execution_count": 26,
   "metadata": {},
   "outputs": [],
   "source": [
    "#para poder aplicar la media o count hay que usar un valor numérico. Así podemos calcular la media de días que nieva por mes\n",
    "snow_month = is_snowing.astype('float').resample('M').apply(np.mean)"
   ]
  },
  {
   "cell_type": "code",
   "execution_count": 27,
   "metadata": {},
   "outputs": [
    {
     "data": {
      "text/plain": [
       "Date/Time\n",
       "2012-01-31    0.240591\n",
       "2012-02-29    0.162356\n",
       "2012-03-31    0.087366\n",
       "2012-04-30    0.015278\n",
       "2012-05-31    0.000000\n",
       "2012-06-30    0.000000\n",
       "2012-07-31    0.000000\n",
       "2012-08-31    0.000000\n",
       "2012-09-30    0.000000\n",
       "2012-10-31    0.000000\n",
       "2012-11-30    0.038889\n",
       "2012-12-31    0.251344\n",
       "Freq: M, Name: Weather, dtype: float64"
      ]
     },
     "execution_count": 27,
     "metadata": {},
     "output_type": "execute_result"
    }
   ],
   "source": [
    "snow_month"
   ]
  },
  {
   "cell_type": "code",
   "execution_count": 28,
   "metadata": {},
   "outputs": [
    {
     "data": {
      "text/plain": [
       "<matplotlib.axes._subplots.AxesSubplot at 0x7f4d67526400>"
      ]
     },
     "execution_count": 28,
     "metadata": {},
     "output_type": "execute_result"
    },
    {
     "data": {
      "image/png": "[encoded data removed]",
      "text/plain": [
       "<matplotlib.figure.Figure at 0x7f4d67d73668>"
      ]
     },
     "metadata": {},
     "output_type": "display_data"
    }
   ],
   "source": [
    "snow_month.plot(kind='bar')"
   ]
  },
  {
   "cell_type": "code",
   "execution_count": 30,
   "metadata": {},
   "outputs": [],
   "source": [
    "# gráfico con temp y nieve juntas\n",
    "stats = pd.concat([temp_month, snow_month], axis=1)"
   ]
  },
  {
   "cell_type": "code",
   "execution_count": 39,
   "metadata": {},
   "outputs": [
    {
     "data": {
      "text/html": [
       "<div>\n",
       "<style>\n",
       "    .dataframe thead tr:only-child th {\n",
       "        text-align: right;\n",
       "    }\n",
       "\n",
       "    .dataframe thead th {\n",
       "        text-align: left;\n",
       "    }\n",
       "\n",
       "    .dataframe tbody tr th {\n",
       "        vertical-align: top;\n",
       "    }\n",
       "</style>\n",
       "<table border=\"1\" class=\"dataframe\">\n",
       "  <thead>\n",
       "    <tr style=\"text-align: right;\">\n",
       "      <th></th>\n",
       "      <th>Temp (C)</th>\n",
       "      <th>Weather</th>\n",
       "    </tr>\n",
       "    <tr>\n",
       "      <th>Date/Time</th>\n",
       "      <th></th>\n",
       "      <th></th>\n",
       "    </tr>\n",
       "  </thead>\n",
       "  <tbody>\n",
       "    <tr>\n",
       "      <th>2012-01-31</th>\n",
       "      <td>-7.371505</td>\n",
       "      <td>0.240591</td>\n",
       "    </tr>\n",
       "    <tr>\n",
       "      <th>2012-02-29</th>\n",
       "      <td>-4.225000</td>\n",
       "      <td>0.162356</td>\n",
       "    </tr>\n",
       "    <tr>\n",
       "      <th>2012-03-31</th>\n",
       "      <td>3.121237</td>\n",
       "      <td>0.087366</td>\n",
       "    </tr>\n",
       "    <tr>\n",
       "      <th>2012-04-30</th>\n",
       "      <td>7.009306</td>\n",
       "      <td>0.015278</td>\n",
       "    </tr>\n",
       "    <tr>\n",
       "      <th>2012-05-31</th>\n",
       "      <td>16.237769</td>\n",
       "      <td>0.000000</td>\n",
       "    </tr>\n",
       "    <tr>\n",
       "      <th>2012-06-30</th>\n",
       "      <td>20.134028</td>\n",
       "      <td>0.000000</td>\n",
       "    </tr>\n",
       "    <tr>\n",
       "      <th>2012-07-31</th>\n",
       "      <td>22.790054</td>\n",
       "      <td>0.000000</td>\n",
       "    </tr>\n",
       "    <tr>\n",
       "      <th>2012-08-31</th>\n",
       "      <td>22.279301</td>\n",
       "      <td>0.000000</td>\n",
       "    </tr>\n",
       "    <tr>\n",
       "      <th>2012-09-30</th>\n",
       "      <td>16.484444</td>\n",
       "      <td>0.000000</td>\n",
       "    </tr>\n",
       "    <tr>\n",
       "      <th>2012-10-31</th>\n",
       "      <td>10.954973</td>\n",
       "      <td>0.000000</td>\n",
       "    </tr>\n",
       "    <tr>\n",
       "      <th>2012-11-30</th>\n",
       "      <td>0.931389</td>\n",
       "      <td>0.038889</td>\n",
       "    </tr>\n",
       "    <tr>\n",
       "      <th>2012-12-31</th>\n",
       "      <td>-3.306317</td>\n",
       "      <td>0.251344</td>\n",
       "    </tr>\n",
       "  </tbody>\n",
       "</table>\n",
       "</div>"
      ],
      "text/plain": [
       "             Temp (C)   Weather\n",
       "Date/Time                      \n",
       "2012-01-31  -7.371505  0.240591\n",
       "2012-02-29  -4.225000  0.162356\n",
       "2012-03-31   3.121237  0.087366\n",
       "2012-04-30   7.009306  0.015278\n",
       "2012-05-31  16.237769  0.000000\n",
       "2012-06-30  20.134028  0.000000\n",
       "2012-07-31  22.790054  0.000000\n",
       "2012-08-31  22.279301  0.000000\n",
       "2012-09-30  16.484444  0.000000\n",
       "2012-10-31  10.954973  0.000000\n",
       "2012-11-30   0.931389  0.038889\n",
       "2012-12-31  -3.306317  0.251344"
      ]
     },
     "execution_count": 39,
     "metadata": {},
     "output_type": "execute_result"
    }
   ],
   "source": [
    "stats"
   ]
  },
  {
   "cell_type": "code",
   "execution_count": 54,
   "metadata": {},
   "outputs": [
    {
     "data": {
      "text/plain": [
       "<matplotlib.collections.PathCollection at 0x7f4d5f3ee3c8>"
      ]
     },
     "execution_count": 54,
     "metadata": {},
     "output_type": "execute_result"
    },
    {
     "data": {
      "image/png": "[encoded data removed]",
      "text/plain": [
       "<matplotlib.figure.Figure at 0x7f4d5f43a2b0>"
      ]
     },
     "metadata": {},
     "output_type": "display_data"
    }
   ],
   "source": [
    "plt.scatter(x=stats['Temp (C)'], y=stats['Weather']*10)"
   ]
  },
  {
   "cell_type": "code",
   "execution_count": null,
   "metadata": {
    "collapsed": true
   },
   "outputs": [],
   "source": []
  }
 ],
 "metadata": {
  "kernelspec": {
   "display_name": "Python 3",
   "language": "python",
   "name": "python3"
  },
  "language_info": {
   "codemirror_mode": {
    "name": "ipython",
    "version": 3
   },
   "file_extension": ".py",
   "mimetype": "text/x-python",
   "name": "python",
   "nbconvert_exporter": "python",
   "pygments_lexer": "ipython3",
   "version": "3.6.2"
  }
 },
 "nbformat": 4,
 "nbformat_minor": 2
}
